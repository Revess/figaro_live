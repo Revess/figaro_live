{
 "cells": [
  {
   "cell_type": "code",
   "execution_count": 381,
   "metadata": {},
   "outputs": [],
   "source": [
    "import mido\n",
    "import pretty_midi\n",
    "import multiprocessing\n",
    "import time\n",
    "import json\n",
    "import torch\n",
    "import re\n",
    "from copy import deepcopy\n",
    "from transformers import AutoModelForCausalLM, AutoTokenizer\n",
    "from dataclasses import dataclass\n",
    "\n",
    "# Option 2: Suppress warnings by setting the logging level to error\n",
    "from transformers import logging\n",
    "logging.set_verbosity_error()\n",
    "\n",
    "@dataclass\n",
    "class Note():\n",
    "    start: float\n",
    "    end: float\n",
    "    pitch: int\n",
    "    velocity: int\n",
    "    channel: int\n",
    "\n",
    "def conv_channel(channel):\n",
    "    channel_map = {\n",
    "        0: \"%\",\n",
    "        1: \"^\",\n",
    "        2: \"&\",\n",
    "        3: \"*\",\n",
    "        4: \";\",\n",
    "        5: \":\",\n",
    "        6: \"'\",\n",
    "        7: '\"',\n",
    "        9: \")\",\n",
    "        10: \"{\",\n",
    "        11: \"}\",\n",
    "        12: \"[\",\n",
    "        13: \"]\",\n",
    "        14: \"(\",\n",
    "    }\n",
    "\n",
    "    if isinstance(channel, int):\n",
    "        if channel in channel_map.keys():\n",
    "            return channel_map[channel]\n",
    "        return \"%\"\n",
    "    elif isinstance(channel, str):\n",
    "        # Invert the mapping\n",
    "        channel_map = {\n",
    "            v: k for k, v in channel_map.items()\n",
    "        }\n",
    "        if channel in channel_map.keys():\n",
    "            return channel_map[channel]\n",
    "        return 0\n",
    "    else:\n",
    "        raise \"Wrong type for channel\"\n",
    "\n",
    "def conv_velocity(velocity):\n",
    "    velocity_map = {\n",
    "        48: \"!\",\n",
    "        60: \"@\",\n",
    "        100: \"#\",\n",
    "        127: \"$\",\n",
    "    }\n",
    "    if isinstance(velocity, int):\n",
    "        for i in velocity_map.keys():\n",
    "            if velocity <= i:\n",
    "                return velocity_map[i]\n",
    "        return \"@\"\n",
    "    elif isinstance(velocity, str):\n",
    "        # Invert the mapping\n",
    "        velocity_map = {\n",
    "            v: k for k, v in velocity_map.items()\n",
    "        }\n",
    "        return velocity_map[velocity]\n",
    "    else:\n",
    "        raise \"Wrong type for velocity\"\n",
    "\n",
    "def str_to_mido(note_str):\n",
    "    res_notes = []\n",
    "    mido_stack = []\n",
    "    last_note = 0\n",
    "    for token in note_str.split('|'):\n",
    "        pattern = re.compile(r\"(\\d+)(\\D)(\\d+)(\\D)(\\d+)\")\n",
    "        m = pattern.match(token)\n",
    "        if m:\n",
    "            # res_notes.append(Note(\n",
    "            #     start = mido.tick2second(int(m.group(1)), 480, 500000),\n",
    "            #     velocity = conv_velocity(m.group(2)),\n",
    "            #     end = mido.tick2second(int(m.group(3)), 480, 500000),\n",
    "            #     channel = conv_channel(m.group(4)),\n",
    "            #     pitch = int(m.group(5))\n",
    "            # ))\n",
    "\n",
    "            mido_stack.append(mido.Message(\n",
    "                'note_on', note = int(m.group(5)), velocity = conv_velocity(m.group(2)), time = mido.tick2second(int(m.group(1)), 480, 500000) + last_note\n",
    "            ))\n",
    "\n",
    "            mido_stack.append(mido.Message(\n",
    "                'note_off', note = int(m.group(5)), velocity = conv_velocity(m.group(2)), time = mido.tick2second(int(m.group(1)), 480, 500000) + mido.tick2second(int(m.group(3)), 480, 500000) + last_note\n",
    "            ))\n",
    "\n",
    "            last_note += mido.tick2second(int(m.group(1)), 480, 500000)\n",
    "\n",
    "    return mido_stack\n",
    "\n",
    "\n",
    "\n",
    "    mido_stack = []\n",
    "    last_note = 0\n",
    "    for note in res_notes:\n",
    "        mido_stack.append(mido.Message(\n",
    "            'note_on', note = note.pitch, velocity = note.velocity, time = note.start + last_note\n",
    "        ))\n",
    "\n",
    "        mido_stack.append(mido.Message(\n",
    "            'note_off', note = note.pitch, velocity = note.velocity, time = note.start + note.end\n",
    "        ))\n",
    "\n",
    "        last_note += note.start\n",
    "    mido_stack.sort(key = lambda x: x.time)\n",
    "    return mido_stack"
   ]
  },
  {
   "cell_type": "code",
   "execution_count": 2,
   "metadata": {},
   "outputs": [
    {
     "name": "stderr",
     "output_type": "stream",
     "text": [
      "/Users/bmaat/projects/Figaro_Live/venv/lib/python3.11/site-packages/huggingface_hub/file_download.py:797: FutureWarning: `resume_download` is deprecated and will be removed in version 1.0.0. Downloads always resume when possible. If you want to force a new download, use `force_download=True`.\n",
      "  warnings.warn(\n"
     ]
    }
   ],
   "source": [
    "model_name = \"kobimusic/esecutore-4-0619\"\n",
    "DEVICE = 'cuda' if torch.cuda.is_available() else 'mps'\n",
    "\n",
    "model = AutoModelForCausalLM.from_pretrained(model_name)\n",
    "tokenizer = AutoTokenizer.from_pretrained(model_name)\n",
    "model.to(DEVICE)\n",
    "None"
   ]
  },
  {
   "cell_type": "code",
   "execution_count": null,
   "metadata": {},
   "outputs": [],
   "source": [
    "notes = []\n",
    "active_notes = {}\n",
    "\n",
    "try:\n",
    "    with mido.open_input('Launchkey Mini MK3 MIDI Port') as inport, mido.open_output('IAC Driver Bus 1') as outport:\n",
    "        start_time = time.time()\n",
    "        for msg in inport:\n",
    "            if msg.type in ['note_on', 'note_off']:\n",
    "                if msg.type == 'note_on' and msg.channel == 0 and msg.velocity > 0:\n",
    "                    active_notes[msg.note] = (time.time() - start_time, msg.velocity)\n",
    "                elif msg.type == 'note_off' or (msg.type == 'note_on' and msg.velocity == 0) and msg.channel == 0 and msg.note in active_notes:\n",
    "                    start, velocity = active_notes.pop(msg.note)\n",
    "                    notes.append(Note(\n",
    "                        start = start,\n",
    "                        end = time.time() - start_time,\n",
    "                        pitch = msg.note,\n",
    "                        velocity = velocity,\n",
    "                        channel = 0\n",
    "                    ))\n",
    "            outport.send(msg)\n",
    "except:\n",
    "    pass\n",
    "\n",
    "notes.sort(key = lambda x: x.start)\n",
    "\n",
    "offset = notes[0].start\n",
    "for note in notes:\n",
    "    note.start -= offset\n",
    "    note.end -= offset"
   ]
  },
  {
   "cell_type": "code",
   "execution_count": 25,
   "metadata": {},
   "outputs": [],
   "source": [
    "ticking_notes = []\n",
    "\n",
    "for note in notes:\n",
    "    ticking_notes.append(Note(\n",
    "        start = mido.second2tick(note.start, 24, 500000),\n",
    "        end = mido.second2tick(note.end, 24, 500000),\n",
    "        pitch = note.pitch,\n",
    "        velocity = note.velocity,\n",
    "        channel = note.channel,\n",
    "    ))"
   ]
  },
  {
   "cell_type": "code",
   "execution_count": 336,
   "metadata": {},
   "outputs": [],
   "source": [
    "str_note = ''\n",
    "prev_start = 0\n",
    "for note in ticking_notes:\n",
    "    str_note += str(note.start - prev_start) + str(conv_velocity(note.velocity)) + str(note.end - note.start) + str(conv_channel(note.channel)) + str(note.pitch) + \"|\"\n",
    "    prev_start = note.start"
   ]
  },
  {
   "cell_type": "code",
   "execution_count": 337,
   "metadata": {},
   "outputs": [],
   "source": [
    "tokens = f'. classical {str_note}'"
   ]
  },
  {
   "cell_type": "code",
   "execution_count": 341,
   "metadata": {},
   "outputs": [],
   "source": [
    "import re\n",
    "def convert_ppqn(data, factor=20):\n",
    "    # This regex matches a delimiter ($, @, #, or !) followed by one or more digits\n",
    "    def replace_tick(match):\n",
    "        symbol = match.group(1)\n",
    "        tick = int(match.group(2))\n",
    "        return f\"{symbol}{int(tick * factor)}\"\n",
    "    return re.sub(r'([$@#!])(\\d+)', replace_tick, data)\n",
    "tokens = convert_ppqn(tokens, factor = 480 // 24)"
   ]
  },
  {
   "cell_type": "code",
   "execution_count": 382,
   "metadata": {},
   "outputs": [
    {
     "name": "stdout",
     "output_type": "stream",
     "text": [
      "6\n",
      "34$120%62| 1\n",
      "7\n",
      "6$3880%31| 2\n",
      "7\n",
      "0!3820&41| 3\n",
      "6\n",
      "12$200%65| 4\n",
      "7\n",
      "1$3880%31| 5\n",
      "7\n",
      "2!3880&79| 6\n",
      "6\n",
      "0$240)36| 7\n",
      "6\n",
      "0!240)42| 8\n",
      "6\n",
      "0#240)55| 9\n",
      "6\n",
      "0$440)42| 10\n"
     ]
    },
    {
     "ename": "KeyboardInterrupt",
     "evalue": "",
     "output_type": "error",
     "traceback": [
      "\u001b[0;31m---------------------------------------------------------------------------\u001b[0m",
      "\u001b[0;31mKeyboardInterrupt\u001b[0m                         Traceback (most recent call last)",
      "Cell \u001b[0;32mIn[382], line 10\u001b[0m\n\u001b[1;32m      8\u001b[0m coll \u001b[38;5;241m=\u001b[39m \u001b[38;5;124m'\u001b[39m\u001b[38;5;124m'\u001b[39m\n\u001b[1;32m      9\u001b[0m \u001b[38;5;28;01mwhile\u001b[39;00m generated_notes \u001b[38;5;241m<\u001b[39m\u001b[38;5;241m=\u001b[39m (\u001b[38;5;241m20\u001b[39m):\n\u001b[0;32m---> 10\u001b[0m     res \u001b[38;5;241m=\u001b[39m \u001b[43mmodel\u001b[49m\u001b[38;5;241;43m.\u001b[39;49m\u001b[43mgenerate\u001b[49m\u001b[43m(\u001b[49m\n\u001b[1;32m     11\u001b[0m \u001b[43m        \u001b[49m\u001b[43mins\u001b[49m\u001b[43m[\u001b[49m\u001b[43m:\u001b[49m\u001b[43m,\u001b[49m\u001b[43m \u001b[49m\u001b[43mi\u001b[49m\u001b[43m:\u001b[49m\u001b[43m]\u001b[49m\u001b[43m,\u001b[49m\n\u001b[1;32m     12\u001b[0m \u001b[43m        \u001b[49m\u001b[43mattention_mask\u001b[49m\u001b[43m \u001b[49m\u001b[38;5;241;43m=\u001b[39;49m\u001b[43m \u001b[49m\u001b[43mattention_mask\u001b[49m\u001b[43m,\u001b[49m\n\u001b[1;32m     13\u001b[0m \u001b[43m        \u001b[49m\u001b[43muse_cache\u001b[49m\u001b[38;5;241;43m=\u001b[39;49m\u001b[38;5;28;43;01mFalse\u001b[39;49;00m\u001b[43m,\u001b[49m\n\u001b[1;32m     14\u001b[0m \u001b[43m        \u001b[49m\u001b[43mmax_new_tokens\u001b[49m\u001b[38;5;241;43m=\u001b[39;49m\u001b[38;5;241;43m1\u001b[39;49m\u001b[43m,\u001b[49m\n\u001b[1;32m     15\u001b[0m \u001b[43m        \u001b[49m\u001b[43mdo_sample\u001b[49m\u001b[38;5;241;43m=\u001b[39;49m\u001b[38;5;28;43;01mTrue\u001b[39;49;00m\u001b[43m,\u001b[49m\n\u001b[1;32m     16\u001b[0m \u001b[43m        \u001b[49m\u001b[43mtemperature\u001b[49m\u001b[38;5;241;43m=\u001b[39;49m\u001b[38;5;241;43m0.89\u001b[39;49m\u001b[43m,\u001b[49m\n\u001b[1;32m     17\u001b[0m \u001b[43m        \u001b[49m\u001b[43mtop_p\u001b[49m\u001b[38;5;241;43m=\u001b[39;49m\u001b[38;5;241;43m1.0\u001b[39;49m\u001b[43m,\u001b[49m\n\u001b[1;32m     18\u001b[0m \u001b[43m        \u001b[49m\u001b[43mnum_return_sequences\u001b[49m\u001b[38;5;241;43m=\u001b[39;49m\u001b[38;5;241;43m1\u001b[39;49m\u001b[43m,\u001b[49m\n\u001b[1;32m     19\u001b[0m \u001b[43m    \u001b[49m\u001b[43m)\u001b[49m\n\u001b[1;32m     20\u001b[0m     ins \u001b[38;5;241m=\u001b[39m torch\u001b[38;5;241m.\u001b[39mcat((ins, res[:, \u001b[38;5;241m-\u001b[39m\u001b[38;5;241m1\u001b[39m][:, \u001b[38;5;28;01mNone\u001b[39;00m]), dim\u001b[38;5;241m=\u001b[39m\u001b[38;5;241m1\u001b[39m)\n\u001b[1;32m     21\u001b[0m     i \u001b[38;5;241m+\u001b[39m\u001b[38;5;241m=\u001b[39m \u001b[38;5;241m1\u001b[39m\n",
      "File \u001b[0;32m~/projects/Figaro_Live/venv/lib/python3.11/site-packages/torch/utils/_contextlib.py:115\u001b[0m, in \u001b[0;36mcontext_decorator.<locals>.decorate_context\u001b[0;34m(*args, **kwargs)\u001b[0m\n\u001b[1;32m    112\u001b[0m \u001b[38;5;129m@functools\u001b[39m\u001b[38;5;241m.\u001b[39mwraps(func)\n\u001b[1;32m    113\u001b[0m \u001b[38;5;28;01mdef\u001b[39;00m\u001b[38;5;250m \u001b[39m\u001b[38;5;21mdecorate_context\u001b[39m(\u001b[38;5;241m*\u001b[39margs, \u001b[38;5;241m*\u001b[39m\u001b[38;5;241m*\u001b[39mkwargs):\n\u001b[1;32m    114\u001b[0m     \u001b[38;5;28;01mwith\u001b[39;00m ctx_factory():\n\u001b[0;32m--> 115\u001b[0m         \u001b[38;5;28;01mreturn\u001b[39;00m \u001b[43mfunc\u001b[49m\u001b[43m(\u001b[49m\u001b[38;5;241;43m*\u001b[39;49m\u001b[43margs\u001b[49m\u001b[43m,\u001b[49m\u001b[43m \u001b[49m\u001b[38;5;241;43m*\u001b[39;49m\u001b[38;5;241;43m*\u001b[39;49m\u001b[43mkwargs\u001b[49m\u001b[43m)\u001b[49m\n",
      "File \u001b[0;32m~/projects/Figaro_Live/venv/lib/python3.11/site-packages/transformers/generation/utils.py:1525\u001b[0m, in \u001b[0;36mGenerationMixin.generate\u001b[0;34m(self, inputs, generation_config, logits_processor, stopping_criteria, prefix_allowed_tokens_fn, synced_gpus, assistant_model, streamer, negative_prompt_ids, negative_prompt_attention_mask, **kwargs)\u001b[0m\n\u001b[1;32m   1517\u001b[0m     input_ids, model_kwargs \u001b[38;5;241m=\u001b[39m \u001b[38;5;28mself\u001b[39m\u001b[38;5;241m.\u001b[39m_expand_inputs_for_generation(\n\u001b[1;32m   1518\u001b[0m         input_ids\u001b[38;5;241m=\u001b[39minput_ids,\n\u001b[1;32m   1519\u001b[0m         expand_size\u001b[38;5;241m=\u001b[39mgeneration_config\u001b[38;5;241m.\u001b[39mnum_return_sequences,\n\u001b[1;32m   1520\u001b[0m         is_encoder_decoder\u001b[38;5;241m=\u001b[39m\u001b[38;5;28mself\u001b[39m\u001b[38;5;241m.\u001b[39mconfig\u001b[38;5;241m.\u001b[39mis_encoder_decoder,\n\u001b[1;32m   1521\u001b[0m         \u001b[38;5;241m*\u001b[39m\u001b[38;5;241m*\u001b[39mmodel_kwargs,\n\u001b[1;32m   1522\u001b[0m     )\n\u001b[1;32m   1524\u001b[0m     \u001b[38;5;66;03m# 13. run sample\u001b[39;00m\n\u001b[0;32m-> 1525\u001b[0m     \u001b[38;5;28;01mreturn\u001b[39;00m \u001b[38;5;28;43mself\u001b[39;49m\u001b[38;5;241;43m.\u001b[39;49m\u001b[43msample\u001b[49m\u001b[43m(\u001b[49m\n\u001b[1;32m   1526\u001b[0m \u001b[43m        \u001b[49m\u001b[43minput_ids\u001b[49m\u001b[43m,\u001b[49m\n\u001b[1;32m   1527\u001b[0m \u001b[43m        \u001b[49m\u001b[43mlogits_processor\u001b[49m\u001b[38;5;241;43m=\u001b[39;49m\u001b[43mprepared_logits_processor\u001b[49m\u001b[43m,\u001b[49m\n\u001b[1;32m   1528\u001b[0m \u001b[43m        \u001b[49m\u001b[43mlogits_warper\u001b[49m\u001b[38;5;241;43m=\u001b[39;49m\u001b[43mlogits_warper\u001b[49m\u001b[43m,\u001b[49m\n\u001b[1;32m   1529\u001b[0m \u001b[43m        \u001b[49m\u001b[43mstopping_criteria\u001b[49m\u001b[38;5;241;43m=\u001b[39;49m\u001b[43mprepared_stopping_criteria\u001b[49m\u001b[43m,\u001b[49m\n\u001b[1;32m   1530\u001b[0m \u001b[43m        \u001b[49m\u001b[43mpad_token_id\u001b[49m\u001b[38;5;241;43m=\u001b[39;49m\u001b[43mgeneration_config\u001b[49m\u001b[38;5;241;43m.\u001b[39;49m\u001b[43mpad_token_id\u001b[49m\u001b[43m,\u001b[49m\n\u001b[1;32m   1531\u001b[0m \u001b[43m        \u001b[49m\u001b[43meos_token_id\u001b[49m\u001b[38;5;241;43m=\u001b[39;49m\u001b[43mgeneration_config\u001b[49m\u001b[38;5;241;43m.\u001b[39;49m\u001b[43meos_token_id\u001b[49m\u001b[43m,\u001b[49m\n\u001b[1;32m   1532\u001b[0m \u001b[43m        \u001b[49m\u001b[43moutput_scores\u001b[49m\u001b[38;5;241;43m=\u001b[39;49m\u001b[43mgeneration_config\u001b[49m\u001b[38;5;241;43m.\u001b[39;49m\u001b[43moutput_scores\u001b[49m\u001b[43m,\u001b[49m\n\u001b[1;32m   1533\u001b[0m \u001b[43m        \u001b[49m\u001b[43mreturn_dict_in_generate\u001b[49m\u001b[38;5;241;43m=\u001b[39;49m\u001b[43mgeneration_config\u001b[49m\u001b[38;5;241;43m.\u001b[39;49m\u001b[43mreturn_dict_in_generate\u001b[49m\u001b[43m,\u001b[49m\n\u001b[1;32m   1534\u001b[0m \u001b[43m        \u001b[49m\u001b[43msynced_gpus\u001b[49m\u001b[38;5;241;43m=\u001b[39;49m\u001b[43msynced_gpus\u001b[49m\u001b[43m,\u001b[49m\n\u001b[1;32m   1535\u001b[0m \u001b[43m        \u001b[49m\u001b[43mstreamer\u001b[49m\u001b[38;5;241;43m=\u001b[39;49m\u001b[43mstreamer\u001b[49m\u001b[43m,\u001b[49m\n\u001b[1;32m   1536\u001b[0m \u001b[43m        \u001b[49m\u001b[38;5;241;43m*\u001b[39;49m\u001b[38;5;241;43m*\u001b[39;49m\u001b[43mmodel_kwargs\u001b[49m\u001b[43m,\u001b[49m\n\u001b[1;32m   1537\u001b[0m \u001b[43m    \u001b[49m\u001b[43m)\u001b[49m\n\u001b[1;32m   1539\u001b[0m \u001b[38;5;28;01melif\u001b[39;00m generation_mode \u001b[38;5;241m==\u001b[39m GenerationMode\u001b[38;5;241m.\u001b[39mBEAM_SEARCH:\n\u001b[1;32m   1540\u001b[0m     \u001b[38;5;66;03m# 11. prepare beam search scorer\u001b[39;00m\n\u001b[1;32m   1541\u001b[0m     beam_scorer \u001b[38;5;241m=\u001b[39m BeamSearchScorer(\n\u001b[1;32m   1542\u001b[0m         batch_size\u001b[38;5;241m=\u001b[39mbatch_size,\n\u001b[1;32m   1543\u001b[0m         num_beams\u001b[38;5;241m=\u001b[39mgeneration_config\u001b[38;5;241m.\u001b[39mnum_beams,\n\u001b[0;32m   (...)\u001b[0m\n\u001b[1;32m   1548\u001b[0m         max_length\u001b[38;5;241m=\u001b[39mgeneration_config\u001b[38;5;241m.\u001b[39mmax_length,\n\u001b[1;32m   1549\u001b[0m     )\n",
      "File \u001b[0;32m~/projects/Figaro_Live/venv/lib/python3.11/site-packages/transformers/generation/utils.py:2658\u001b[0m, in \u001b[0;36mGenerationMixin.sample\u001b[0;34m(self, input_ids, logits_processor, stopping_criteria, logits_warper, max_length, pad_token_id, eos_token_id, output_attentions, output_hidden_states, output_scores, return_dict_in_generate, synced_gpus, streamer, **model_kwargs)\u001b[0m\n\u001b[1;32m   2656\u001b[0m \u001b[38;5;66;03m# sample\u001b[39;00m\n\u001b[1;32m   2657\u001b[0m probs \u001b[38;5;241m=\u001b[39m nn\u001b[38;5;241m.\u001b[39mfunctional\u001b[38;5;241m.\u001b[39msoftmax(next_token_scores, dim\u001b[38;5;241m=\u001b[39m\u001b[38;5;241m-\u001b[39m\u001b[38;5;241m1\u001b[39m)\n\u001b[0;32m-> 2658\u001b[0m next_tokens \u001b[38;5;241m=\u001b[39m \u001b[43mtorch\u001b[49m\u001b[38;5;241;43m.\u001b[39;49m\u001b[43mmultinomial\u001b[49m\u001b[43m(\u001b[49m\u001b[43mprobs\u001b[49m\u001b[43m,\u001b[49m\u001b[43m \u001b[49m\u001b[43mnum_samples\u001b[49m\u001b[38;5;241;43m=\u001b[39;49m\u001b[38;5;241;43m1\u001b[39;49m\u001b[43m)\u001b[49m\u001b[38;5;241m.\u001b[39msqueeze(\u001b[38;5;241m1\u001b[39m)\n\u001b[1;32m   2660\u001b[0m \u001b[38;5;66;03m# finished sentences should have their next token be a padding token\u001b[39;00m\n\u001b[1;32m   2661\u001b[0m \u001b[38;5;28;01mif\u001b[39;00m eos_token_id \u001b[38;5;129;01mis\u001b[39;00m \u001b[38;5;129;01mnot\u001b[39;00m \u001b[38;5;28;01mNone\u001b[39;00m:\n",
      "\u001b[0;31mKeyboardInterrupt\u001b[0m: "
     ]
    }
   ],
   "source": [
    "decoded_tokens = tokenizer.encode(tokens)\n",
    "ins = torch.tensor([decoded_tokens], device=DEVICE)\n",
    "init_shape = ins.size(1) - 1\n",
    "attention_mask = torch.ones_like(ins)\n",
    "generated_notes = 0\n",
    "played_ = 0\n",
    "i = 0\n",
    "coll = ''\n",
    "while generated_notes <= (20):\n",
    "    res = model.generate(\n",
    "        ins[:, i:],\n",
    "        attention_mask = attention_mask,\n",
    "        use_cache=False,\n",
    "        max_new_tokens=1,\n",
    "        do_sample=True,\n",
    "        temperature=0.89,\n",
    "        top_p=1.0,\n",
    "        num_return_sequences=1,\n",
    "    )\n",
    "    ins = torch.cat((ins, res[:, -1][:, None]), dim=1)\n",
    "    i += 1\n",
    "\n",
    "    coll = tokenizer.batch_decode(ins[:, len(decoded_tokens) + played_:].cpu().detach())[0]\n",
    "\n",
    "    if '|' in coll:\n",
    "        generated_notes += 1\n",
    "        print(ins[:, len(decoded_tokens) + played_:].cpu().detach().shape[1])\n",
    "        print(coll, generated_notes)\n",
    "\n",
    "        mido_stack = str_to_mido(tokenizer.batch_decode(ins[:, len(decoded_tokens) + played_:].cpu().detach())[0])\n",
    "        \n",
    "        if len(mido_stack) > 0:\n",
    "            with mido.open_output('IAC Driver Bus 1') as outport:\n",
    "                st_time = time.time()\n",
    "                while len(mido_stack) > 0:\n",
    "                    if mido_stack[0].time <= time.time() - st_time:\n",
    "                        msg = mido_stack.pop(0)\n",
    "                        outport.send(msg)\n",
    "\n",
    "        played_ += ins[:, len(decoded_tokens) + played_:].cpu().detach().shape[1]"
   ]
  },
  {
   "cell_type": "code",
   "execution_count": 368,
   "metadata": {},
   "outputs": [
    {
     "data": {
      "text/plain": [
       "'16$1020%60|'"
      ]
     },
     "execution_count": 368,
     "metadata": {},
     "output_type": "execute_result"
    }
   ],
   "source": [
    "tokenizer.batch_decode(torch.tensor([[1433,    3,  940, 1238,    4, 1899,   91]]))[0]"
   ]
  },
  {
   "cell_type": "code",
   "execution_count": 317,
   "metadata": {},
   "outputs": [
    {
     "name": "stdout",
     "output_type": "stream",
     "text": [
      "note_on channel=0 note=55 velocity=60 time=0.022916666666666665\n",
      "note_off channel=0 note=55 velocity=60 time=0.46041666666666664\n"
     ]
    }
   ],
   "source": [
    "result_tokens = tokenizer.batch_decode(ins[:, torch.tensor([decoded_tokens], device=DEVICE).shape[1]:].cpu().detach())[0]\n",
    "result_tokens, generated_notes\n",
    "\n",
    "mido_stack = str_to_mido(result_tokens)\n",
    "\n",
    "with mido.open_output('IAC Driver Bus 1') as outport:\n",
    "    st_time = time.time()\n",
    "    while len(mido_stack) > 0:\n",
    "        if mido_stack[0].time <= time.time() - st_time:\n",
    "            msg = mido_stack.pop(0)\n",
    "            print(msg)\n",
    "            outport.send(msg)"
   ]
  },
  {
   "cell_type": "code",
   "execution_count": 320,
   "metadata": {},
   "outputs": [
    {
     "data": {
      "text/plain": [
       "'2'"
      ]
     },
     "execution_count": 320,
     "metadata": {},
     "output_type": "execute_result"
    }
   ],
   "source": [
    "result_tokens = tokenizer.batch_decode(ins[:, torch.tensor([decoded_tokens], device=DEVICE).shape[1]:].cpu().detach())[0]\n",
    "result_tokens"
   ]
  },
  {
   "cell_type": "code",
   "execution_count": null,
   "metadata": {},
   "outputs": [],
   "source": []
  }
 ],
 "metadata": {
  "kernelspec": {
   "display_name": "venv",
   "language": "python",
   "name": "python3"
  },
  "language_info": {
   "codemirror_mode": {
    "name": "ipython",
    "version": 3
   },
   "file_extension": ".py",
   "mimetype": "text/x-python",
   "name": "python",
   "nbconvert_exporter": "python",
   "pygments_lexer": "ipython3",
   "version": "3.11.0"
  }
 },
 "nbformat": 4,
 "nbformat_minor": 2
}
