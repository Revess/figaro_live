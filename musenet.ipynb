{
 "cells": [
  {
   "cell_type": "code",
   "execution_count": 70,
   "metadata": {},
   "outputs": [
    {
     "name": "stderr",
     "output_type": "stream",
     "text": [
      "/Users/bmaat/projects/Figaro_Live/venv/lib/python3.11/site-packages/tqdm/auto.py:21: TqdmWarning: IProgress not found. Please update jupyter and ipywidgets. See https://ipywidgets.readthedocs.io/en/stable/user_install.html\n",
      "  from .autonotebook import tqdm as notebook_tqdm\n"
     ]
    }
   ],
   "source": [
    "from transformers import AutoModelForCausalLM, AutoTokenizer\n",
    "import torch\n",
    "import mido\n",
    "import time\n",
    "\n",
    "model_name = \"kobimusic/esecutore-4-0619\"\n",
    "DEVICE = 'cuda:0' if torch.cuda.is_available() else 'mps'"
   ]
  },
  {
   "cell_type": "code",
   "execution_count": 71,
   "metadata": {},
   "outputs": [
    {
     "name": "stderr",
     "output_type": "stream",
     "text": [
      "/Users/bmaat/projects/Figaro_Live/venv/lib/python3.11/site-packages/huggingface_hub/file_download.py:797: FutureWarning: `resume_download` is deprecated and will be removed in version 1.0.0. Downloads always resume when possible. If you want to force a new download, use `force_download=True`.\n",
      "  warnings.warn(\n"
     ]
    }
   ],
   "source": [
    "model = AutoModelForCausalLM.from_pretrained(model_name)\n",
    "model.to('mps')\n",
    "tokenizer = AutoTokenizer.from_pretrained(model_name)"
   ]
  },
  {
   "cell_type": "markdown",
   "metadata": {},
   "source": [
    "Just collect and write all the notes in a relative way (simplifies code a lot)"
   ]
  },
  {
   "cell_type": "code",
   "execution_count": null,
   "metadata": {},
   "outputs": [],
   "source": [
    "notes = []\n",
    "rel_time = True\n",
    "\n",
    "try:\n",
    "    with mido.open_input('Launchkey Mini MK3 MIDI Port') as inport:\n",
    "        start_time = time.time()\n",
    "        for msg in inport:\n",
    "            if msg.type == 'note_on' and msg.velocity > 0:\n",
    "                time_ = time.time() - start_time\n",
    "                notes.append(mido.Message(\n",
    "                    'note_on',\n",
    "                    note=msg.note, \n",
    "                    velocity=msg.velocity, \n",
    "                    channel=0,\n",
    "                    time = time_\n",
    "                ))\n",
    "                if rel_time:\n",
    "                    start_time = time.time()\n",
    "            elif msg.type == 'note_off'  or (msg.type == 'note_on' and msg.velocity == 0):\n",
    "                time_ = time.time() - start_time\n",
    "                notes.append(mido.Message(\n",
    "                    'note_off',\n",
    "                    note=msg.note, \n",
    "                    velocity=msg.velocity, \n",
    "                    channel=0,\n",
    "                    time = time_\n",
    "                ))\n",
    "                if rel_time:\n",
    "                    start_time = time.time()\n",
    "except KeyError as e:\n",
    "    print(e)\n",
    "    pass"
   ]
  },
  {
   "cell_type": "markdown",
   "metadata": {},
   "source": [
    "Convert the relative inputs into inputs for the AI"
   ]
  },
  {
   "cell_type": "code",
   "execution_count": 10,
   "metadata": {},
   "outputs": [],
   "source": [
    "def conv_channel(channel):\n",
    "    channel_map = {\n",
    "        0: \"%\",\n",
    "        1: \"^\",\n",
    "        2: \"&\",\n",
    "        3: \"*\",\n",
    "        4: \";\",\n",
    "        5: \":\",\n",
    "        6: \"'\",\n",
    "        7: '\"',\n",
    "        9: \")\",\n",
    "        10: \"{\",\n",
    "        11: \"}\",\n",
    "        12: \"[\",\n",
    "        13: \"]\",\n",
    "        14: \"(\",\n",
    "    }\n",
    "\n",
    "    if isinstance(channel, int):\n",
    "        if channel in channel_map.keys():\n",
    "            return channel_map[channel]\n",
    "        return \"%\"\n",
    "    elif isinstance(channel, str):\n",
    "        # Invert the mapping\n",
    "        channel_map = {\n",
    "            v: k for k, v in channel_map.items()\n",
    "        }\n",
    "        if channel in channel_map.keys():\n",
    "            return channel_map[channel]\n",
    "        return 0\n",
    "    else:\n",
    "        raise \"Wrong type for channel\"\n",
    "\n",
    "def conv_velocity(velocity):\n",
    "    velocity_map = {\n",
    "        48: \"!\",\n",
    "        60: \"@\",\n",
    "        100: \"#\",\n",
    "    }\n",
    "    if isinstance(velocity, int):\n",
    "        for i in velocity_map.keys():\n",
    "            if velocity <= i:\n",
    "                return velocity_map[i]\n",
    "        return \"@\"\n",
    "    elif isinstance(velocity, str):\n",
    "        # Invert the mapping\n",
    "        velocity_map = {\n",
    "            v: k for k, v in velocity_map.items()\n",
    "        }\n",
    "        return velocity_map[velocity]\n",
    "    else:\n",
    "        raise \"Wrong type for velocity\"\n",
    "    \n",
    "from dataclasses import dataclass\n",
    "\n",
    "@dataclass\n",
    "class Note():\n",
    "    start: float\n",
    "    end: float\n",
    "    pitch: int\n",
    "    velocity: int\n",
    "    channel: int\n"
   ]
  },
  {
   "cell_type": "code",
   "execution_count": null,
   "metadata": {},
   "outputs": [],
   "source": [
    "import pickle as pkl\n",
    "\n",
    "def conv_pm_to_str(midi_):\n",
    "    ticks_per_beat = 480 / 24\n",
    "    bpm = ((60) / 120) *  1000000\n",
    "\n",
    "    rel_notes = []\n",
    "    last_time = 0\n",
    "\n",
    "    for msg in midi_:\n",
    "        delta = msg.end - msg.start\n",
    "        rel_notes.append(\n",
    "            str(mido.second2tick(msg.start - last_time, ticks_per_beat, bpm)) +\n",
    "            str(conv_velocity(msg.velocity)) +\n",
    "            str(mido.second2tick(delta, ticks_per_beat, bpm)) +\n",
    "            str(conv_channel(msg.channel)) +\n",
    "            str(msg.pitch) + \"|\"\n",
    "        )\n",
    "\n",
    "        last_time = msg.start\n",
    "\n",
    "    str_conv = ''.join(rel_notes)\n",
    "    return str_conv\n",
    "\n",
    "with open('./test.pkl', 'rb') as f:\n",
    "    piano, click = pkl.load(f)\n",
    "\n",
    "midi_ = []\n",
    "for note in piano:\n",
    "    midi_.append(Note(\n",
    "        start = note.start,\n",
    "        end = note.end,\n",
    "        pitch = note.pitch,\n",
    "        velocity = note.velocity,\n",
    "        channel = 0\n",
    "    ))\n",
    "for note in click:\n",
    "    midi_.append(Note(\n",
    "        start = note.start,\n",
    "        end = note.end,\n",
    "        pitch = note.pitch,\n",
    "        velocity = note.velocity,\n",
    "        channel = 9\n",
    "    ))\n",
    "\n",
    "midi_.sort(key = lambda x: x.start)\n",
    "inp_str = conv_pm_to_str(midi_)"
   ]
  },
  {
   "cell_type": "code",
   "execution_count": 149,
   "metadata": {},
   "outputs": [
    {
     "data": {
      "text/plain": [
       "'. classical |100@73%48|0#19)75|1!14%63|0!10%60|9@13%55|10#19)56|1@11%60|0!11%63|8@14%55|10#19)56|1@11%60|0!11%63|10!12%55|8#19)56|1!12%63|0!9%60|8!14%55|9!73%50|1#19)75|1#13%65|0#10%60|9@14%55|9#19)56|1#13%65|1!11%60|8!15%55|10#19)56|1#15%65|1@12%60|9#13%55|9#19)56|1#11%65|1!10%60|7#8%55|10@72%48|0@13%58|0@12%63|1#19)75|10@11%55|9@9%63|0!10%58|1#19)56|8@11%55|10@12%58|0@9%63|1#19)56|8#8%55|11#19)56|1@7%58|0@7%63|9#6%55|0!5%58|9#19)75|'"
      ]
     },
     "execution_count": 149,
     "metadata": {},
     "output_type": "execute_result"
    }
   ],
   "source": [
    "str_conv = ''.join(inp_str)\n",
    "formatted = f\". classical |{str_conv}\"\n",
    "formatted"
   ]
  },
  {
   "cell_type": "code",
   "execution_count": null,
   "metadata": {},
   "outputs": [],
   "source": [
    "formatted = '. classical |0#240%62|0#240*74|240#240%64|0#240*76|0#240%65|0#240*77|240#240%67|0#240*79|240#40%62|0#40*74|40#440%64|0#440*76|440#240%60|0#240^56|0#240^53|0#240^51|0#240*72|240#120%62|0#120^58|0#120^53|0#120^48|0#120*74|240#80&70|80#80&72|80#80&70|80#80&69|80#80&70|80#80&69|80#80&68|160#80&63|80#80&62|80#80&63|80#80&62|80#80&57|80#80&58|80#80&60|80#80&65|80#80&69|80#80^58|0#80^62|0#80^65|0#80^69|0#80&72|80#320^57|0#320^64|0#320^60|0#320^67|0#320^71|0#320&76|480#240%60|0#240*72|240#240%62|0#240*74|240#240%63|0#240*75|240#240%65|0#240*77|240#40%60|0#40*72|40#440%62|0#440*74|440#240%58|0#240^54|0#240^51|0#240^49|0#240*70|240#120%60|0#120^56|0#120^51|0#120^46|0#120*72|'"
   ]
  },
  {
   "cell_type": "code",
   "execution_count": 150,
   "metadata": {},
   "outputs": [
    {
     "name": "stderr",
     "output_type": "stream",
     "text": [
      "The attention mask and the pad token id were not set. As a consequence, you may observe unexpected behavior. Please pass your input's `attention_mask` to obtain reliable results.\n",
      "Setting `pad_token_id` to `eos_token_id`:151645 for open-end generation.\n",
      "The attention mask and the pad token id were not set. As a consequence, you may observe unexpected behavior. Please pass your input's `attention_mask` to obtain reliable results.\n",
      "Setting `pad_token_id` to `eos_token_id`:151645 for open-end generation.\n",
      "The attention mask and the pad token id were not set. As a consequence, you may observe unexpected behavior. Please pass your input's `attention_mask` to obtain reliable results.\n",
      "Setting `pad_token_id` to `eos_token_id`:151645 for open-end generation.\n",
      "The attention mask and the pad token id were not set. As a consequence, you may observe unexpected behavior. Please pass your input's `attention_mask` to obtain reliable results.\n",
      "Setting `pad_token_id` to `eos_token_id`:151645 for open-end generation.\n",
      "The attention mask and the pad token id were not set. As a consequence, you may observe unexpected behavior. Please pass your input's `attention_mask` to obtain reliable results.\n",
      "Setting `pad_token_id` to `eos_token_id`:151645 for open-end generation.\n",
      "The attention mask and the pad token id were not set. As a consequence, you may observe unexpected behavior. Please pass your input's `attention_mask` to obtain reliable results.\n",
      "Setting `pad_token_id` to `eos_token_id`:151645 for open-end generation.\n",
      "The attention mask and the pad token id were not set. As a consequence, you may observe unexpected behavior. Please pass your input's `attention_mask` to obtain reliable results.\n",
      "Setting `pad_token_id` to `eos_token_id`:151645 for open-end generation.\n",
      "The attention mask and the pad token id were not set. As a consequence, you may observe unexpected behavior. Please pass your input's `attention_mask` to obtain reliable results.\n",
      "Setting `pad_token_id` to `eos_token_id`:151645 for open-end generation.\n",
      "The attention mask and the pad token id were not set. As a consequence, you may observe unexpected behavior. Please pass your input's `attention_mask` to obtain reliable results.\n",
      "Setting `pad_token_id` to `eos_token_id`:151645 for open-end generation.\n",
      "The attention mask and the pad token id were not set. As a consequence, you may observe unexpected behavior. Please pass your input's `attention_mask` to obtain reliable results.\n",
      "Setting `pad_token_id` to `eos_token_id`:151645 for open-end generation.\n"
     ]
    },
    {
     "name": "stdout",
     "output_type": "stream",
     "text": [
      "['6#12)56|', '2@12%63|', '6@12%60|', '0!12%55|', '7@7%55|', '9#14)56|', '4@13%65|', '0@19%58|', '19#19)56|', '0!10%58|']\n"
     ]
    }
   ],
   "source": [
    "ins = tokenizer.encode(formatted)\n",
    "ins = torch.tensor([ins], device='mps')\n",
    "decs = []\n",
    "for i in range(10):\n",
    "    res = model.generate(\n",
    "        ins,\n",
    "        use_cache=False,\n",
    "        max_new_tokens=6,\n",
    "        do_sample=True,\n",
    "        temperature=0.89,\n",
    "        top_p=1.0,\n",
    "        num_return_sequences=1,\n",
    "    )\n",
    "    decs.append(tokenizer.batch_decode(res[:, ins.shape[1]:])[0])\n",
    "    ins = torch.cat((ins, res[:, ins.shape[1]:]), dim=1)\n",
    "print(decs)"
   ]
  },
  {
   "cell_type": "code",
   "execution_count": 2,
   "metadata": {},
   "outputs": [],
   "source": [
    "decs = ['6#12)56|', '2@12%63|', '6@12%60|', '0!12%55|', '7@7%55|', '9#14)56|', '4@13%65|', '0@19%58|', '19#19)56|', '0!10%58|']"
   ]
  },
  {
   "cell_type": "code",
   "execution_count": 11,
   "metadata": {},
   "outputs": [
    {
     "data": {
      "text/plain": [
       "Note(start=6, end=18, pitch=56, velocity=100, channel=9)"
      ]
     },
     "execution_count": 11,
     "metadata": {},
     "output_type": "execute_result"
    }
   ],
   "source": [
    "import re\n",
    "pattern = re.compile(r\"(\\d+)(\\D)(\\d+)(\\D)(\\d+)\\|\")\n",
    "m = pattern.match(decs[0])\n",
    "\n",
    "Note(\n",
    "    start = int(m.group(1)),\n",
    "    velocity = conv_velocity(m.group(2)),\n",
    "    end = int(m.group(1)) + int(m.group(3)),\n",
    "    channel = conv_channel(m.group(4)),\n",
    "    pitch = int(m.group(5))\n",
    ")"
   ]
  },
  {
   "cell_type": "code",
   "execution_count": 155,
   "metadata": {},
   "outputs": [],
   "source": [
    "import re\n",
    "pattern = re.compile(r\"(\\d+)(\\D)(\\d+)(\\D)(\\d+)\\|\")\n",
    "notes = []\n",
    "prev_start = 0\n",
    "for note in decs:\n",
    "    m = pattern.match(note)\n",
    "    notes.append(Note(\n",
    "        start = int(m.group(1)) + prev_start,\n",
    "        velocity = conv_velocity(m.group(2)),\n",
    "        end = int(m.group(1)) + int(m.group(3)),\n",
    "        channel = conv_channel(m.group(4)),\n",
    "        pitch = int(m.group(5))\n",
    "    ))\n",
    "    prev_start += int(m.group(1))"
   ]
  },
  {
   "cell_type": "code",
   "execution_count": 1,
   "metadata": {},
   "outputs": [
    {
     "ename": "NameError",
     "evalue": "name 'notes' is not defined",
     "output_type": "error",
     "traceback": [
      "\u001b[0;31m---------------------------------------------------------------------------\u001b[0m",
      "\u001b[0;31mNameError\u001b[0m                                 Traceback (most recent call last)",
      "Cell \u001b[0;32mIn[1], line 1\u001b[0m\n\u001b[0;32m----> 1\u001b[0m \u001b[43mnotes\u001b[49m\n",
      "\u001b[0;31mNameError\u001b[0m: name 'notes' is not defined"
     ]
    }
   ],
   "source": [
    "notes"
   ]
  },
  {
   "cell_type": "code",
   "execution_count": null,
   "metadata": {},
   "outputs": [],
   "source": [
    "notes"
   ]
  },
  {
   "cell_type": "code",
   "execution_count": 73,
   "metadata": {},
   "outputs": [
    {
     "data": {
      "text/plain": [
       "['. classical |42$71%48|1@11%63|1!7%60|7!11%55|10@9%60|0#12%63|9@11%55|10!11%63|0!14%60|11!9%55|8@11%60|1!9%63|7@10%55|8$54%50|3@10%60|0!10%65|7#13%55|11#11%60|0#12%65|8#13%55|10@11%60|0@12%65|9#7%55|9$5%58|0$6%48|1$4%63|8#5%50|0#6%55|1#4%60|1#3%63|4$15%56']"
      ]
     },
     "execution_count": 73,
     "metadata": {},
     "output_type": "execute_result"
    }
   ],
   "source": [
    "decoded = tokenizer.batch_decode(res)\n",
    "decoded"
   ]
  },
  {
   "cell_type": "code",
   "execution_count": 21,
   "metadata": {},
   "outputs": [],
   "source": [
    "import mido\n",
    "\n",
    "# Create a new MIDI file with 480 ticks per beat\n",
    "mid = mido.MidiFile(ticks_per_beat=480)\n",
    "track = mido.MidiTrack()\n",
    "mid.tracks.append(track)\n",
    "\n",
    "# Set tempo (500000 µs per beat = 120 BPM) and time signature\n",
    "track.append(mido.MetaMessage('set_tempo', tempo=500000, time=0))\n",
    "track.append(mido.MetaMessage('time_signature', numerator=4, denominator=4, time=0))\n",
    "\n",
    "# Start two notes simultaneously at time 0\n",
    "# Note 60 will last 3 seconds (6 beats * 480 = 2880 ticks)\n",
    "# Note 64 will last 3.5 seconds (7 beats * 480 = 3360 ticks)\n",
    "track.append(mido.Message('note_on', note=60, velocity=64, time=0))\n",
    "track.append(mido.Message('note_on', note=64, velocity=64, time=0))\n",
    "track.append(mido.Message('note_on', note=50, velocity=64, time=200))\n",
    "track.append(mido.Message('note_on', note=70, velocity=64, time=200))\n",
    "track.append(mido.Message('note_on', note=80, velocity=64, time=400))\n",
    "track.append(mido.Message('note_on', note=81, velocity=64, time=400))\n",
    "\n",
    "track.append(mido.Message('note_off', note=64, velocity=64, time=480))\n",
    "track.append(mido.Message('note_off', note=60, velocity=64, time=2880))\n",
    "track.append(mido.Message('note_off', note=70, velocity=64, time=240))\n",
    "track.append(mido.Message('note_off', note=50, velocity=64, time=4000))\n",
    "track.append(mido.Message('note_off', note=80, velocity=64, time=600))\n",
    "track.append(mido.Message('note_off', note=81, velocity=64, time=800))\n",
    "\n",
    "# Mark end of track\n",
    "track.append(mido.MetaMessage('end_of_track', time=8000))\n",
    "\n",
    "# Save the MIDI file\n",
    "mid.save('long_notes.mid')"
   ]
  }
 ],
 "metadata": {
  "kernelspec": {
   "display_name": "venv",
   "language": "python",
   "name": "python3"
  },
  "language_info": {
   "codemirror_mode": {
    "name": "ipython",
    "version": 3
   },
   "file_extension": ".py",
   "mimetype": "text/x-python",
   "name": "python",
   "nbconvert_exporter": "python",
   "pygments_lexer": "ipython3",
   "version": "3.11.0"
  }
 },
 "nbformat": 4,
 "nbformat_minor": 2
}
